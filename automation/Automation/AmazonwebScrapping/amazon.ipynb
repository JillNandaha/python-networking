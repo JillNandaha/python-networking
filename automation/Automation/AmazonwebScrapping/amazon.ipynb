{
 "cells": [
  {
   "cell_type": "code",
   "execution_count": null,
   "id": "15110284",
   "metadata": {},
   "outputs": [],
   "source": [
    "#import libraries\n",
    "from bs4 import BeautifulSoup\n",
    "import requests\n",
    "import pandas as pd\n",
    "import time\n",
    "import datetime\n",
    "import smtplib\n"
   ]
  },
  {
   "cell_type": "code",
   "execution_count": null,
   "id": "308c1e46",
   "metadata": {},
   "outputs": [],
   "source": [
    "#connect to website\n",
    "url = 'https://www.amazon.com/Tenant-Freida-McFadden/dp/1464227314/?_encoding=UTF8&pd_rd_w=7Yhfs&content-id=amzn1.sym.9929d3ab-edb7-4ef5-a232-26d90f828fa5&pf_rd_p=9929d3ab-edb7-4ef5-a232-26d90f828fa5&pf_rd_r=463S5GT6S5B4KDKVDFTS&pd_rd_wg=IOfof&pd_rd_r=6845eb94-97af-4186-b123-8fb25683752d&ref_=pd_hp_d_btf_crs_zg_bs_283155'\n",
    "headers = {\"User-Agent\": 'Mozilla/5.0 (Windows NT 10.0; Win64; x64) AppleWebKit/537.36 (KHTML, like Gecko) Chrome/90.0.4430.212 Safari/537.36'}\n",
    "page = requests.get(url, headers=headers)\n",
    "soup1 = BeautifulSoup(page.content, 'html.parser')\n",
    "soup2 = BeautifulSoup(soup1.prettify(), 'html.parser')\n",
    "title = soup2.find(id='productTitle').get_text()\n",
    "print(title)\n",
    "price = soup2.find(id='priceblock_ourprice').get_text()\n",
    "print(price)\n"
   ]
  },
  {
   "cell_type": "code",
   "execution_count": null,
   "id": "7523539d",
   "metadata": {},
   "outputs": [],
   "source": [
    "price = price.strip()[1:]\n",
    "title = title.strip()\n",
    "print(title)\n",
    "print(price)"
   ]
  },
  {
   "cell_type": "code",
   "execution_count": null,
   "id": "647d8bdb",
   "metadata": {},
   "outputs": [],
   "source": [
    "#create csv and append data to it\n",
    "import csv\n",
    "header = ['Title', 'Price', 'Date']\n",
    "data = [title, price, datetime.date.today()]\n",
    "with open('AmazonWebScrappingDataset.csv', 'a+', newline='', encoding='UTF8') as f:\n",
    "    writer = csv.writer(f)\n",
    "    writer.writerow(header)\n",
    "    writer.writerow(data)\n"
   ]
  },
  {
   "cell_type": "code",
   "execution_count": null,
   "id": "f13fadb7",
   "metadata": {},
   "outputs": [],
   "source": [
    "df = pd.read_csv(r'C:\\Users\\jeell\\OneDrive\\Desktop\\VS\\Python\\Automation\\AmazonWebScrappingDataset.csv')\n",
    "print(df)"
   ]
  },
  {
   "cell_type": "code",
   "execution_count": null,
   "id": "48722c13",
   "metadata": {},
   "outputs": [],
   "source": [
    "def check_price():\n",
    "    url = 'https://www.amazon.com/Tenant-Freida-McFadden/dp/1464227314/?_encoding=UTF8&pd_rd_w=7Yhfs&content-id=amzn1.sym.9929d3ab-edb7-4ef5-a232-26d90f828fa5&pf_rd_p=9929d3ab-edb7-4ef5-a232-26d90f828fa5&pf_rd_r=463S5GT6S5B4KDKVDFTS&pd_rd_wg=IOfof&pd_rd_r=6845eb94-97af-4186-b123-8fb25683752d&ref_=pd_hp_d_btf_crs_zg_bs_283155'\n",
    "    headers = {\"User-Agent\": 'Mozilla/5.0 (Windows NT 10.0; Win64; x64) AppleWebKit/537.36 (KHTML, like Gecko) Chrome/90.0.4430.212 Safari/537.36'}\n",
    "    page = requests.get(url, headers=headers)\n",
    "    soup1 = BeautifulSoup(page.content, 'html.parser')\n",
    "    soup2 = BeautifulSoup(soup1.prettify(), 'html.parser')\n",
    "    title = soup2.find(id='productTitle').get_text()\n",
    "    print(title)\n",
    "    price = soup2.find(id='priceblock_ourprice').get_text()\n",
    "    print(price)\n",
    "    \n",
    "    price = price.strip()[1:]\n",
    "    title = title.strip()\n",
    "    print(title)\n",
    "    print(price)\n",
    "    \n",
    "    import csv\n",
    "    header = ['Title', 'Price', 'Date']\n",
    "    data = [title, price, datetime.date.today()]\n",
    "    with open('AmazonWebScrappingDataset.csv', 'a+', newline='', encoding='UTF8') as f:\n",
    "        writer = csv.writer(f)\n",
    "        writer.writerow(header)\n",
    "        writer.writerow(data)\n",
    "    \n",
    "    df = pd.read_csv(r'C:\\Users\\jeell\\AmazonWebScrappingDataset.csv')\n",
    "    print(df)\n",
    "    #C:\\Users\\jeell\\OneDrive\\Desktop\\VS\\Python\\Automation\\AmazonwebScrapping"
   ]
  },
  {
   "cell_type": "code",
   "execution_count": null,
   "id": "763d7943",
   "metadata": {},
   "outputs": [],
   "source": [
    "#put the above code in a loop so that it runs every 24 hours\n",
    "while(True):\n",
    "    check_price()\n",
    "    time.sleep(86400)\n",
    "    #send an email when the price drops below a certain level\n",
    "    if(price < 200):\n",
    "        send_email()\n",
    "        print(\"Price is below 200\")"
   ]
  },
  {
   "cell_type": "code",
   "execution_count": null,
   "id": "bedc8a0e",
   "metadata": {},
   "outputs": [],
   "source": [
    "def send_email():\n",
    "    server = smtplib.SMTP('smtp.gmail.com', 587)\n",
    "    server.ehlo()\n",
    "    server.starttls()\n",
    "    server.ehlo()\n",
    "    \n",
    "    server.login('jj@gmail.com', 'password')\n",
    "    subject = 'The book you want is below $200'\n",
    "    body = 'Check the amazon link https://www.amazon.com/Tenant-Freida-McFadden/dp/1464227314/?_encoding=UTF8&pd_rd_w=7Yhfs&content-id=amzn1.sym.9929d3ab-edb7-4ef5-a232-26d90f828fa5&pf_rd_p=9929d3ab-edb7-4ef5-a232-26d90f828fa5&pf_rd_r=463S5GT6S5B4KDKVDFTS&pd_rd_wg=IOfof&pd_rd_r=6845eb94-97af-4186-b123-8fb25683752d&ref_=pd_hp_d_btf_crs_zg_bs_283155'\n",
    "    msg = f\"Subject: {subject}\\n\\n{body}\"\n",
    "    server.sendmail(\n",
    "        'jj@gmail.com', msg\n",
    "    )"
   ]
  }
 ],
 "metadata": {
  "kernelspec": {
   "display_name": "Python 3",
   "language": "python",
   "name": "python3"
  },
  "language_info": {
   "name": "python",
   "version": "3.13.5"
  }
 },
 "nbformat": 4,
 "nbformat_minor": 5
}
